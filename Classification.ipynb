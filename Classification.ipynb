{
  "nbformat": 4,
  "nbformat_minor": 0,
  "metadata": {
    "colab": {
      "name": "Untitled1.ipynb",
      "provenance": [],
      "collapsed_sections": [],
      "authorship_tag": "ABX9TyMt6f/4QuzI70KgEcqqdlKV",
      "include_colab_link": true
    },
    "kernelspec": {
      "name": "python3",
      "display_name": "Python 3"
    },
    "language_info": {
      "name": "python"
    }
  },
  "cells": [
    {
      "cell_type": "markdown",
      "metadata": {
        "id": "view-in-github",
        "colab_type": "text"
      },
      "source": [
        "<a href=\"https://colab.research.google.com/github/marqun/Python_ML/blob/main/Classification.ipynb\" target=\"_parent\"><img src=\"https://colab.research.google.com/assets/colab-badge.svg\" alt=\"Open In Colab\"/></a>"
      ]
    },
    {
      "cell_type": "code",
      "metadata": {
        "colab": {
          "base_uri": "https://localhost:8080/"
        },
        "id": "UgKQxq-1O4O6",
        "outputId": "a5ba50b0-f047-4190-f0fb-2a39a3de5c49"
      },
      "source": [
        "%tensorflow_version 2.x  # this line is not required unless you are in a notebook\n",
        "from __future__ import absolute_import, division, print_function, unicode_literals\n",
        "import tensorflow as tf\n",
        "import pandas as pd\n",
        "\n",
        "CSV_COLUMN_NAMES = ['SepalLength', 'SepalWidth', 'PetalLength', 'PetalWidth', 'Species']\n",
        "SPECIES = ['Setosa', 'Versicolor', 'Virginica']\n",
        "# Lets define some constants to help us later on\n",
        "\n",
        "train_path = tf.keras.utils.get_file(\n",
        "    \"iris_training.csv\", \"https://storage.googleapis.com/download.tensorflow.org/data/iris_training.csv\")\n",
        "test_path = tf.keras.utils.get_file(\n",
        "    \"iris_test.csv\", \"https://storage.googleapis.com/download.tensorflow.org/data/iris_test.csv\")\n",
        "\n",
        "\n"
      ],
      "execution_count": 1,
      "outputs": [
        {
          "output_type": "stream",
          "text": [
            "`%tensorflow_version` only switches the major version: 1.x or 2.x.\n",
            "You set: `2.x  # this line is not required unless you are in a notebook`. This will be interpreted as: `2.x`.\n",
            "\n",
            "\n",
            "TensorFlow 2.x selected.\n",
            "Downloading data from https://storage.googleapis.com/download.tensorflow.org/data/iris_training.csv\n",
            "8192/2194 [================================================================================================================] - 0s 0us/step\n",
            "Downloading data from https://storage.googleapis.com/download.tensorflow.org/data/iris_test.csv\n",
            "8192/573 [============================================================================================================================================================================================================================================================================================================================================================================================================================================] - 0s 0us/step\n"
          ],
          "name": "stdout"
        }
      ]
    },
    {
      "cell_type": "code",
      "metadata": {
        "id": "ObcP-QsBQX5t"
      },
      "source": [
        "train = pd.read_csv(train_path, names=CSV_COLUMN_NAMES, header=0)\n",
        "test = pd.read_csv(test_path, names=CSV_COLUMN_NAMES, header=0)\n",
        "# Here we use keras (a module inside of TensorFlow) to grab our datasets and read them into a pandas dataframe\n"
      ],
      "execution_count": 3,
      "outputs": []
    },
    {
      "cell_type": "markdown",
      "metadata": {
        "id": "z3HBcjUCQXke"
      },
      "source": [
        ""
      ]
    },
    {
      "cell_type": "code",
      "metadata": {
        "id": "3OyN6oAAPX_h"
      },
      "source": [
        "train_y = train.pop('Species')\n",
        "test_y = test.pop('Species')\n"
      ],
      "execution_count": 4,
      "outputs": []
    },
    {
      "cell_type": "code",
      "metadata": {
        "id": "FjgotO0JP1mq"
      },
      "source": [
        "def input_fn(features, labels, training=True, batch_size=256):\n",
        "    # Convert the inputs to a Dataset.\n",
        "    dataset = tf.data.Dataset.from_tensor_slices((dict(features), labels))\n",
        "\n",
        "    # Shuffle and repeat if you are in training mode.\n",
        "    if training:\n",
        "        dataset = dataset.shuffle(1000).repeat()\n",
        "    \n",
        "    return dataset.batch(batch_size)\n"
      ],
      "execution_count": 5,
      "outputs": []
    },
    {
      "cell_type": "code",
      "metadata": {
        "colab": {
          "base_uri": "https://localhost:8080/"
        },
        "id": "ZlGr1CxqTh48",
        "outputId": "d76978de-d9fb-4d47-f8f4-e59a38589d86"
      },
      "source": [
        "# Feature columns describe how to use the input.\n",
        "my_feature_columns = []\n",
        "for key in train.keys():\n",
        "    my_feature_columns.append(tf.feature_column.numeric_column(key=key))\n",
        "print(my_feature_columns)"
      ],
      "execution_count": 6,
      "outputs": [
        {
          "output_type": "stream",
          "text": [
            "[NumericColumn(key='SepalLength', shape=(1,), default_value=None, dtype=tf.float32, normalizer_fn=None), NumericColumn(key='SepalWidth', shape=(1,), default_value=None, dtype=tf.float32, normalizer_fn=None), NumericColumn(key='PetalLength', shape=(1,), default_value=None, dtype=tf.float32, normalizer_fn=None), NumericColumn(key='PetalWidth', shape=(1,), default_value=None, dtype=tf.float32, normalizer_fn=None)]\n"
          ],
          "name": "stdout"
        }
      ]
    },
    {
      "cell_type": "code",
      "metadata": {
        "colab": {
          "base_uri": "https://localhost:8080/"
        },
        "id": "J5gmNZ1NT0z_",
        "outputId": "57ec5c9f-3629-4174-9ea9-f853422a44db"
      },
      "source": [
        "# Build a DNN with 2 hidden layers with 30 and 10 hidden nodes each.\n",
        "classifier = tf.estimator.DNNClassifier(\n",
        "    feature_columns=my_feature_columns,\n",
        "    # Two hidden layers of 30 and 10 nodes respectively.\n",
        "    hidden_units=[30, 10],\n",
        "    # The model must choose between 3 classes.\n",
        "    n_classes=3)"
      ],
      "execution_count": 7,
      "outputs": [
        {
          "output_type": "stream",
          "text": [
            "INFO:tensorflow:Using default config.\n",
            "WARNING:tensorflow:Using temporary folder as model directory: /tmp/tmpcgq9td0f\n",
            "INFO:tensorflow:Using config: {'_model_dir': '/tmp/tmpcgq9td0f', '_tf_random_seed': None, '_save_summary_steps': 100, '_save_checkpoints_steps': None, '_save_checkpoints_secs': 600, '_session_config': allow_soft_placement: true\n",
            "graph_options {\n",
            "  rewrite_options {\n",
            "    meta_optimizer_iterations: ONE\n",
            "  }\n",
            "}\n",
            ", '_keep_checkpoint_max': 5, '_keep_checkpoint_every_n_hours': 10000, '_log_step_count_steps': 100, '_train_distribute': None, '_device_fn': None, '_protocol': None, '_eval_distribute': None, '_experimental_distribute': None, '_experimental_max_worker_delay_secs': None, '_session_creation_timeout_secs': 7200, '_checkpoint_save_graph_def': True, '_service': None, '_cluster_spec': ClusterSpec({}), '_task_type': 'worker', '_task_id': 0, '_global_id_in_cluster': 0, '_master': '', '_evaluation_master': '', '_is_chief': True, '_num_ps_replicas': 0, '_num_worker_replicas': 1}\n"
          ],
          "name": "stdout"
        }
      ]
    },
    {
      "cell_type": "code",
      "metadata": {
        "colab": {
          "base_uri": "https://localhost:8080/"
        },
        "id": "MVcB0bCAUNey",
        "outputId": "d41d286a-e3a4-4a69-b892-f26325fd66c6"
      },
      "source": [
        "classifier.train(\n",
        "    input_fn=lambda: input_fn(train, train_y, training=True),\n",
        "    steps=5000)\n",
        "# We include a lambda to avoid creating an inner function previously"
      ],
      "execution_count": 8,
      "outputs": [
        {
          "output_type": "stream",
          "text": [
            "WARNING:tensorflow:From /usr/local/lib/python3.7/dist-packages/tensorflow/python/training/training_util.py:236: Variable.initialized_value (from tensorflow.python.ops.variables) is deprecated and will be removed in a future version.\n",
            "Instructions for updating:\n",
            "Use Variable.read_value. Variables in 2.X are initialized automatically both in eager and graph (inside tf.defun) contexts.\n",
            "INFO:tensorflow:Calling model_fn.\n",
            "WARNING:tensorflow:From /usr/local/lib/python3.7/dist-packages/tensorflow/python/keras/optimizer_v2/adagrad.py:88: calling Constant.__init__ (from tensorflow.python.ops.init_ops) with dtype is deprecated and will be removed in a future version.\n",
            "Instructions for updating:\n",
            "Call initializer instance with the dtype argument instead of passing it to the constructor\n",
            "INFO:tensorflow:Done calling model_fn.\n",
            "INFO:tensorflow:Create CheckpointSaverHook.\n",
            "INFO:tensorflow:Graph was finalized.\n",
            "INFO:tensorflow:Running local_init_op.\n",
            "INFO:tensorflow:Done running local_init_op.\n",
            "INFO:tensorflow:Calling checkpoint listeners before saving checkpoint 0...\n",
            "INFO:tensorflow:Saving checkpoints for 0 into /tmp/tmpcgq9td0f/model.ckpt.\n",
            "INFO:tensorflow:Calling checkpoint listeners after saving checkpoint 0...\n",
            "INFO:tensorflow:loss = 2.0610623, step = 0\n",
            "INFO:tensorflow:global_step/sec: 379.913\n",
            "INFO:tensorflow:loss = 1.2717166, step = 100 (0.268 sec)\n",
            "INFO:tensorflow:global_step/sec: 516.602\n",
            "INFO:tensorflow:loss = 1.0542688, step = 200 (0.191 sec)\n",
            "INFO:tensorflow:global_step/sec: 492.067\n",
            "INFO:tensorflow:loss = 0.9387002, step = 300 (0.204 sec)\n",
            "INFO:tensorflow:global_step/sec: 432.134\n",
            "INFO:tensorflow:loss = 0.86983395, step = 400 (0.234 sec)\n",
            "INFO:tensorflow:global_step/sec: 483.507\n",
            "INFO:tensorflow:loss = 0.83905613, step = 500 (0.207 sec)\n",
            "INFO:tensorflow:global_step/sec: 420.795\n",
            "INFO:tensorflow:loss = 0.8189945, step = 600 (0.234 sec)\n",
            "INFO:tensorflow:global_step/sec: 438.731\n",
            "INFO:tensorflow:loss = 0.80020404, step = 700 (0.232 sec)\n",
            "INFO:tensorflow:global_step/sec: 387.014\n",
            "INFO:tensorflow:loss = 0.7859914, step = 800 (0.255 sec)\n",
            "INFO:tensorflow:global_step/sec: 428.578\n",
            "INFO:tensorflow:loss = 0.7539458, step = 900 (0.236 sec)\n",
            "INFO:tensorflow:global_step/sec: 447.804\n",
            "INFO:tensorflow:loss = 0.7690749, step = 1000 (0.224 sec)\n",
            "INFO:tensorflow:global_step/sec: 501.9\n",
            "INFO:tensorflow:loss = 0.7381108, step = 1100 (0.198 sec)\n",
            "INFO:tensorflow:global_step/sec: 426.425\n",
            "INFO:tensorflow:loss = 0.7255236, step = 1200 (0.232 sec)\n",
            "INFO:tensorflow:global_step/sec: 456.386\n",
            "INFO:tensorflow:loss = 0.72233844, step = 1300 (0.219 sec)\n",
            "INFO:tensorflow:global_step/sec: 415.809\n",
            "INFO:tensorflow:loss = 0.705163, step = 1400 (0.249 sec)\n",
            "INFO:tensorflow:global_step/sec: 398.274\n",
            "INFO:tensorflow:loss = 0.69651836, step = 1500 (0.246 sec)\n",
            "INFO:tensorflow:global_step/sec: 428.875\n",
            "INFO:tensorflow:loss = 0.7042132, step = 1600 (0.229 sec)\n",
            "INFO:tensorflow:global_step/sec: 415.231\n",
            "INFO:tensorflow:loss = 0.67752033, step = 1700 (0.245 sec)\n",
            "INFO:tensorflow:global_step/sec: 436.867\n",
            "INFO:tensorflow:loss = 0.6607489, step = 1800 (0.228 sec)\n",
            "INFO:tensorflow:global_step/sec: 444.349\n",
            "INFO:tensorflow:loss = 0.6554989, step = 1900 (0.226 sec)\n",
            "INFO:tensorflow:global_step/sec: 474.182\n",
            "INFO:tensorflow:loss = 0.6341001, step = 2000 (0.211 sec)\n",
            "INFO:tensorflow:global_step/sec: 399.982\n",
            "INFO:tensorflow:loss = 0.637662, step = 2100 (0.249 sec)\n",
            "INFO:tensorflow:global_step/sec: 422.004\n",
            "INFO:tensorflow:loss = 0.6328836, step = 2200 (0.238 sec)\n",
            "INFO:tensorflow:global_step/sec: 493.225\n",
            "INFO:tensorflow:loss = 0.6316262, step = 2300 (0.202 sec)\n",
            "INFO:tensorflow:global_step/sec: 490.017\n",
            "INFO:tensorflow:loss = 0.6119627, step = 2400 (0.204 sec)\n",
            "INFO:tensorflow:global_step/sec: 516.419\n",
            "INFO:tensorflow:loss = 0.5758636, step = 2500 (0.190 sec)\n",
            "INFO:tensorflow:global_step/sec: 432.155\n",
            "INFO:tensorflow:loss = 0.58029854, step = 2600 (0.231 sec)\n",
            "INFO:tensorflow:global_step/sec: 486.478\n",
            "INFO:tensorflow:loss = 0.5719726, step = 2700 (0.209 sec)\n",
            "INFO:tensorflow:global_step/sec: 458.52\n",
            "INFO:tensorflow:loss = 0.566867, step = 2800 (0.216 sec)\n",
            "INFO:tensorflow:global_step/sec: 477.271\n",
            "INFO:tensorflow:loss = 0.550487, step = 2900 (0.209 sec)\n",
            "INFO:tensorflow:global_step/sec: 474.264\n",
            "INFO:tensorflow:loss = 0.5398481, step = 3000 (0.210 sec)\n",
            "INFO:tensorflow:global_step/sec: 452.316\n",
            "INFO:tensorflow:loss = 0.5284644, step = 3100 (0.221 sec)\n",
            "INFO:tensorflow:global_step/sec: 447.299\n",
            "INFO:tensorflow:loss = 0.5242748, step = 3200 (0.223 sec)\n",
            "INFO:tensorflow:global_step/sec: 500.624\n",
            "INFO:tensorflow:loss = 0.53106314, step = 3300 (0.204 sec)\n",
            "INFO:tensorflow:global_step/sec: 526.977\n",
            "INFO:tensorflow:loss = 0.50925374, step = 3400 (0.188 sec)\n",
            "INFO:tensorflow:global_step/sec: 482.626\n",
            "INFO:tensorflow:loss = 0.507823, step = 3500 (0.207 sec)\n",
            "INFO:tensorflow:global_step/sec: 507.95\n",
            "INFO:tensorflow:loss = 0.50124043, step = 3600 (0.197 sec)\n",
            "INFO:tensorflow:global_step/sec: 500.794\n",
            "INFO:tensorflow:loss = 0.5068377, step = 3700 (0.196 sec)\n",
            "INFO:tensorflow:global_step/sec: 513.806\n",
            "INFO:tensorflow:loss = 0.48982036, step = 3800 (0.195 sec)\n",
            "INFO:tensorflow:global_step/sec: 488.146\n",
            "INFO:tensorflow:loss = 0.49188736, step = 3900 (0.205 sec)\n",
            "INFO:tensorflow:global_step/sec: 496.719\n",
            "INFO:tensorflow:loss = 0.49840295, step = 4000 (0.205 sec)\n",
            "INFO:tensorflow:global_step/sec: 514.915\n",
            "INFO:tensorflow:loss = 0.47971773, step = 4100 (0.194 sec)\n",
            "INFO:tensorflow:global_step/sec: 509.061\n",
            "INFO:tensorflow:loss = 0.47944728, step = 4200 (0.196 sec)\n",
            "INFO:tensorflow:global_step/sec: 466.272\n",
            "INFO:tensorflow:loss = 0.4691259, step = 4300 (0.212 sec)\n",
            "INFO:tensorflow:global_step/sec: 525.428\n",
            "INFO:tensorflow:loss = 0.47492692, step = 4400 (0.190 sec)\n",
            "INFO:tensorflow:global_step/sec: 476.983\n",
            "INFO:tensorflow:loss = 0.4595693, step = 4500 (0.214 sec)\n",
            "INFO:tensorflow:global_step/sec: 498.934\n",
            "INFO:tensorflow:loss = 0.4628791, step = 4600 (0.197 sec)\n",
            "INFO:tensorflow:global_step/sec: 482.684\n",
            "INFO:tensorflow:loss = 0.4414899, step = 4700 (0.210 sec)\n",
            "INFO:tensorflow:global_step/sec: 493.882\n",
            "INFO:tensorflow:loss = 0.45476997, step = 4800 (0.201 sec)\n",
            "INFO:tensorflow:global_step/sec: 483.199\n",
            "INFO:tensorflow:loss = 0.43639222, step = 4900 (0.207 sec)\n",
            "INFO:tensorflow:Calling checkpoint listeners before saving checkpoint 5000...\n",
            "INFO:tensorflow:Saving checkpoints for 5000 into /tmp/tmpcgq9td0f/model.ckpt.\n",
            "INFO:tensorflow:Calling checkpoint listeners after saving checkpoint 5000...\n",
            "INFO:tensorflow:Loss for final step: 0.43788463.\n"
          ],
          "name": "stdout"
        },
        {
          "output_type": "execute_result",
          "data": {
            "text/plain": [
              "<tensorflow_estimator.python.estimator.canned.dnn.DNNClassifierV2 at 0x7f40ea16b650>"
            ]
          },
          "metadata": {
            "tags": []
          },
          "execution_count": 8
        }
      ]
    },
    {
      "cell_type": "code",
      "metadata": {
        "colab": {
          "base_uri": "https://localhost:8080/"
        },
        "id": "mgFU3jrVUv0o",
        "outputId": "8e391c08-e6a5-45f5-e879-ea5e1fffe15a"
      },
      "source": [
        "eval_result = classifier.evaluate(\n",
        "    input_fn=lambda: input_fn(test, test_y, training=False))\n",
        "\n",
        "print('\\nTest set accuracy: {accuracy:0.3f}\\n'.format(**eval_result))"
      ],
      "execution_count": 9,
      "outputs": [
        {
          "output_type": "stream",
          "text": [
            "INFO:tensorflow:Calling model_fn.\n",
            "INFO:tensorflow:Done calling model_fn.\n",
            "INFO:tensorflow:Starting evaluation at 2021-06-13T14:39:35\n",
            "INFO:tensorflow:Graph was finalized.\n",
            "INFO:tensorflow:Restoring parameters from /tmp/tmpcgq9td0f/model.ckpt-5000\n",
            "INFO:tensorflow:Running local_init_op.\n",
            "INFO:tensorflow:Done running local_init_op.\n",
            "INFO:tensorflow:Inference Time : 0.27563s\n",
            "INFO:tensorflow:Finished evaluation at 2021-06-13-14:39:35\n",
            "INFO:tensorflow:Saving dict for global step 5000: accuracy = 0.9, average_loss = 0.5069635, global_step = 5000, loss = 0.5069635\n",
            "INFO:tensorflow:Saving 'checkpoint_path' summary for global step 5000: /tmp/tmpcgq9td0f/model.ckpt-5000\n",
            "\n",
            "Test set accuracy: 0.900\n",
            "\n"
          ],
          "name": "stdout"
        }
      ]
    },
    {
      "cell_type": "code",
      "metadata": {
        "colab": {
          "base_uri": "https://localhost:8080/"
        },
        "id": "RFesOowxVpP1",
        "outputId": "ee642f06-c535-450f-ab92-2c185ff4ea07"
      },
      "source": [
        "def input_fn(features, batch_size=256):\n",
        "    # Convert the inputs to a Dataset without labels.\n",
        "    return tf.data.Dataset.from_tensor_slices(dict(features)).batch(batch_size)\n",
        "\n",
        "features = ['SepalLength', 'SepalWidth', 'PetalLength', 'PetalWidth']\n",
        "predict = {}\n",
        "\n",
        "print(\"Please type numeric values as prompted.\")\n",
        "for feature in features:\n",
        "  valid = True\n",
        "  while valid: \n",
        "    val = input(feature + \": \")\n",
        "    if not val.isdigit(): valid = False\n",
        "\n",
        "  predict[feature] = [float(val)]\n",
        "\n",
        "predictions = classifier.predict(input_fn=lambda: input_fn(predict))\n",
        "for pred_dict in predictions:\n",
        "    class_id = pred_dict['class_ids'][0]\n",
        "    probability = pred_dict['probabilities'][class_id]\n",
        "\n",
        "    print('Prediction is \"{}\" ({:.1f}%)'.format(\n",
        "        SPECIES[class_id], 100 * probability))\n"
      ],
      "execution_count": 12,
      "outputs": [
        {
          "output_type": "stream",
          "text": [
            "Please type numeric values as prompted.\n",
            "SepalLength: 5.1\n",
            "SepalWidth: 3.3\n",
            "PetalLength: 1.7\n",
            "PetalWidth: 0.5\n",
            "INFO:tensorflow:Calling model_fn.\n",
            "INFO:tensorflow:Done calling model_fn.\n",
            "INFO:tensorflow:Graph was finalized.\n",
            "INFO:tensorflow:Restoring parameters from /tmp/tmpcgq9td0f/model.ckpt-5000\n",
            "INFO:tensorflow:Running local_init_op.\n",
            "INFO:tensorflow:Done running local_init_op.\n",
            "Prediction is \"Setosa\" (84.0%)\n"
          ],
          "name": "stdout"
        }
      ]
    },
    {
      "cell_type": "code",
      "metadata": {
        "id": "EBb2ytORV7i7"
      },
      "source": [
        "# Here is some example input and expected classes you can try above\n",
        "expected = ['Setosa', 'Versicolor', 'Virginica']\n",
        "predict_x = {\n",
        "    'SepalLength':[5.1, 5.9, 6.9],\n",
        "    'SepalWidth': [3.3, 3.0, 3.1],\n",
        "    'PetalLength': [1.7, 4.2, 5.4],\n",
        "    'PetalWidth': [0.5, 1.5, 2.1],\n",
        "}"
      ],
      "execution_count": 1,
      "outputs": []
    }
  ]
}